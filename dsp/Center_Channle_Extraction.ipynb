{
  "nbformat": 4,
  "nbformat_minor": 0,
  "metadata": {
    "colab": {
      "name": "Center-Channle-Extraction.ipynb",
      "version": "0.3.2",
      "provenance": [],
      "collapsed_sections": [],
      "toc_visible": true,
      "include_colab_link": true
    },
    "kernelspec": {
      "name": "python3",
      "display_name": "Python 3"
    },
    "accelerator": "GPU"
  },
  "cells": [
    {
      "cell_type": "markdown",
      "metadata": {
        "id": "view-in-github",
        "colab_type": "text"
      },
      "source": [
        "<a href=\"https://colab.research.google.com/github/tprasadtp/jupyter-notebooks/blob/master/dsp/Center_Channle_Extraction.ipynb\" target=\"_parent\"><img src=\"https://colab.research.google.com/assets/colab-badge.svg\" alt=\"Open In Colab\"/></a>"
      ]
    },
    {
      "metadata": {
        "id": "6jM186hi5Tn-",
        "colab_type": "text"
      },
      "cell_type": "markdown",
      "source": [
        "\n",
        "# Center Channel Extraction\n"
      ]
    },
    {
      "metadata": {
        "id": "VszFeXp6ngz5",
        "colab_type": "code",
        "colab": {}
      },
      "cell_type": "code",
      "source": [
        "# Deps\n",
        "! pip install librosa"
      ],
      "execution_count": 0,
      "outputs": []
    },
    {
      "metadata": {
        "id": "3oOShwxlvkkm",
        "colab_type": "code",
        "colab": {}
      },
      "cell_type": "code",
      "source": [
        "# Importing Stuff\n",
        "import math\n",
        "import numpy as np\n",
        "import IPython.display as ipd\n",
        "import numpy as np\n",
        "from scipy.io import wavfile \n",
        "import os\n",
        "import sys\n",
        "import warnings\n",
        "\n",
        "%matplotlib inline\n",
        "import matplotlib.pyplot as plt\n",
        "import librosa.display\n",
        "\n",
        "try:\n",
        "    from IPython.display import Audio\n",
        "except:\n",
        "    warnings.warn(\"Can't import Audio from IPython.display; \"\n",
        "                  \"Wave.audio() will not work.\")\n"
      ],
      "execution_count": 0,
      "outputs": []
    },
    {
      "metadata": {
        "id": "jJi-Rlrc0tYX",
        "colab_type": "text"
      },
      "cell_type": "markdown",
      "source": [
        "# Upload the Files\n",
        "Please change the filenames accordigly in the later sections."
      ]
    },
    {
      "metadata": {
        "id": "iJcW4UtX3zaO",
        "colab_type": "code",
        "colab": {}
      },
      "cell_type": "code",
      "source": [
        "from google.colab import files\n",
        "# Uploading Files\n",
        "uploaded = files.upload()\n",
        "\n",
        "for fn in uploaded.keys():\n",
        "  print('User uploaded file \"{name}\" with length {length} bytes'.format(\n",
        "      name=fn, length=len(uploaded[fn])))"
      ],
      "execution_count": 0,
      "outputs": []
    },
    {
      "metadata": {
        "id": "YFDf3ItJ4zYd",
        "colab_type": "text"
      },
      "cell_type": "markdown",
      "source": [
        "## Deleting Old Files\n",
        "Did you upload files twice? That can happen!. Delete them using normal shell commands.\n",
        "just add `!` before the command. `!ls` will give you list of files here."
      ]
    },
    {
      "metadata": {
        "id": "NuTq1wQ-xk5v",
        "colab_type": "code",
        "colab": {}
      },
      "cell_type": "code",
      "source": [
        "# For your Info You are running on\n",
        "print (\"------ Running on -------\")\n",
        "!uname -a\n",
        "!lsb_release -a"
      ],
      "execution_count": 0,
      "outputs": []
    },
    {
      "metadata": {
        "id": "JKTSEYWp8mP2",
        "colab_type": "text"
      },
      "cell_type": "markdown",
      "source": [
        "# Rename your file / edit code\n",
        "Rename Your files or edit the code below.\n",
        "\n",
        "- If you wish to keep original code, rename your impulse response file to `impulse.wav` and audio file to `spirit.wav`. \n",
        "- IT **SHOULD** be **STEREO**"
      ]
    },
    {
      "metadata": {
        "id": "ZcmODFYo-IQH",
        "colab_type": "text"
      },
      "cell_type": "markdown",
      "source": [
        "# Read Files"
      ]
    },
    {
      "metadata": {
        "id": "D4cGRcLB7Jwf",
        "colab_type": "code",
        "colab": {}
      },
      "cell_type": "code",
      "source": [
        "# Read Audio File\n",
        "# Ignore warnings of chunk data if any.\n",
        "\n",
        "print(\"Reading Audio file.....\")\n",
        "samp_rate, audio = wavfile.read(\"spirit.wav\")"
      ],
      "execution_count": 0,
      "outputs": []
    },
    {
      "metadata": {
        "id": "yzUqP8Ko_jtp",
        "colab_type": "code",
        "colab": {}
      },
      "cell_type": "code",
      "source": [
        "audio_rows, audio_cols = np.shape(audio)\n",
        "if audio_cols == 2:\n",
        "    print ('Source is Stereo file.')\n",
        "    audio_l = audio[:,0]\n",
        "    audio_r = audio[:,1]\n",
        "    # Lets set a Flag.\n",
        "    STEREO = True\n",
        "elif audio_cols == 1:\n",
        "    print('Source is Mono')\n",
        "    print(\"Mono is not supported.\")\n",
        "    sys.exit(1)\n",
        "else:\n",
        "    print('Multi channel Audio is not suppoted')\n",
        "    sys.exit(1)\n",
        "\n",
        "if audio_rows / samp_rate  < 0.5:\n",
        "    print('Audio is Too short to play with')\n",
        "    sys.exit(1)\n",
        "else:\n",
        "    print (\"Audio is {0:f} seconds long.\".format(audio_rows/samp_rate))"
      ],
      "execution_count": 0,
      "outputs": []
    },
    {
      "metadata": {
        "id": "Zu-e2Dr_GkqB",
        "colab_type": "text"
      },
      "cell_type": "markdown",
      "source": [
        "# Processing Channels\n",
        "\n",
        "- Normalize the audio samples b/w 1 & -1\n",
        "- fft both channels\n",
        "- compute center channel\n",
        "- compute coefficients\n",
        "- transform back to time domain\n",
        "- write channels seperataely"
      ]
    },
    {
      "metadata": {
        "id": "ufI51_04G7FG",
        "colab_type": "code",
        "colab": {}
      },
      "cell_type": "code",
      "source": [
        "def normalize(ys, amp=1.0):\n",
        "    \"\"\"Normalizes a wave array so the maximum amplitude is +amp or -amp.\n",
        "\n",
        "    ys: wave array\n",
        "    amp: max amplitude (pos or neg) in result\n",
        "\n",
        "    returns: wave array\n",
        "    \"\"\"\n",
        "    high, low = abs(max(ys)), abs(min(ys))\n",
        "    return amp * ys / max(high, low)\n",
        "\n",
        "\n",
        "print(\"Normalizing Numpy Arrays....\")\n",
        "# Normalize \n",
        "if STEREO:\n",
        "    audio_l_n = normalize(audio_l)\n",
        "    audio_r_n = normalize(audio_r)\n",
        "        \n",
        "    ## FFT Shift\n",
        "    print(\"FFT...\")\n",
        "    print(\"Processing Left channel...\")\n",
        "    audio_l_n_fft = np.fft.fft(audio_l_n)\n",
        "    print (\"Processing Right Channel...\")\n",
        "    audio_r_n_fft = np.fft.fft(audio_r_n)\n",
        "    print(\"Normalize again\")\n",
        "    audio_l_n_fft_n = normalize(audio_l_n_fft)\n",
        "    audio_r_n_fft_n = normalize(audio_l_n_fft)\n",
        "    print(\"Create center channel...\")\n",
        "    audio_c_fft = audio_l_n_fft_n + audio_r_n_fft_n\n",
        "    \n",
        "    # Process Vector products\n",
        "    print(\"Computing Roots\")\n",
        "    roots_0 = np.zeros(len(audio_c_fft))\n",
        "    roots_1 = np.zeros(len(audio_c_fft))\n",
        "    for i in range(0, len(audio_l_n_fft_n)):\n",
        "        c_dot_c = np.dot(audio_c_fft[i], audio_c_fft[i])\n",
        "        c_dot_l_r = np.dot(audio_c_fft[i], (audio_l_n_fft_n[i] + audio_r_n_fft_n[i]))\n",
        "        l_dot_r = np.dot(audio_l_n_fft_n[i], audio_r_n_fft_n[i])\n",
        "        root = np.roots([abs(c_dot_c), abs(c_dot_l_r), abs(l_dot_r)])\n",
        "        roots_0[i] = root [0]\n",
        "        roots_1[i] = root [1]\n",
        "        #print(f\"{i} is {roots}\")\n",
        "    print (\"Computing New Channels...\")\n",
        "    audio_out_c_fft = roots_0 * audio_c_fft\n",
        "    audio_out_l_fft = audio_l_n_fft_n - audio_out_c_fft\n",
        "    audio_out_r_fft = audio_r_n_fft_n - audio_out_c_fft\n",
        "\n",
        "    print(\"Back to Time Domain\")\n",
        "    audio_out_c = np.fft.ifft(audio_out_c_fft)\n",
        "    audio_out_l = np.fft.ifft(audio_out_l_fft)\n",
        "    audio_out_r = np.fft.ifft(audio_out_l_fft)\n",
        "\n",
        "    print(\"Normalize again...\")\n",
        "    audio_out_c_n = normalize(audio_out_c)\n",
        "    audio_out_l_n = normalize(audio_out_r)\n",
        "    audio_out_r_n = normalize(audio_out_r)\n",
        "else:\n",
        "    sys.exit(1)\n"
      ],
      "execution_count": 0,
      "outputs": []
    },
    {
      "metadata": {
        "id": "xcedJj2OdMhH",
        "colab_type": "code",
        "colab": {}
      },
      "cell_type": "code",
      "source": [
        "print(\"Writing Output....\")\n",
        "wavfile.write(filename=\"voice.wav\", rate=samp_rate, data=abs(audio_out_c_n))\n",
        "wavfile.write(filename=\"left-voice-removed.wav\", rate=samp_rate, data=abs(audio_out_l_n))\n",
        "wavfile.write(filename=\"right-voice-removed.wav\", rate=samp_rate, data=abs(audio_out_r_n))\n",
        "ipd.Audio(abs(audio_out_c_n), rate=samp_rate)"
      ],
      "execution_count": 0,
      "outputs": []
    }
  ]
}